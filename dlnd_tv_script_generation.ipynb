{
 "cells": [
  {
   "cell_type": "markdown",
   "metadata": {},
   "source": [
    "# TV Script Generation\n",
    "In this project, you'll generate your own [Simpsons](https://en.wikipedia.org/wiki/The_Simpsons) TV scripts using RNNs.  You'll be using part of the [Simpsons dataset](https://www.kaggle.com/wcukierski/the-simpsons-by-the-data) of scripts from 27 seasons.  The Neural Network you'll build will generate a new TV script for a scene at [Moe's Tavern](https://simpsonswiki.com/wiki/Moe's_Tavern).\n",
    "## Get the Data\n",
    "The data is already provided for you.  You'll be using a subset of the original dataset.  It consists of only the scenes in Moe's Tavern.  This doesn't include other versions of the tavern, like \"Moe's Cavern\", \"Flaming Moe's\", \"Uncle Moe's Family Feed-Bag\", etc.."
   ]
  },
  {
   "cell_type": "code",
   "execution_count": 1,
   "metadata": {
    "collapsed": true
   },
   "outputs": [],
   "source": [
    "\"\"\"\n",
    "DON'T MODIFY ANYTHING IN THIS CELL\n",
    "\"\"\"\n",
    "import helper\n",
    "\n",
    "data_dir = './data/simpsons/moes_tavern_lines.txt'\n",
    "text = helper.load_data(data_dir)\n",
    "# Ignore notice, since we don't use it for analysing the data\n",
    "text = text[81:]"
   ]
  },
  {
   "cell_type": "code",
   "execution_count": 2,
   "metadata": {},
   "outputs": [
    {
     "name": "stdout",
     "output_type": "stream",
     "text": [
      "305189\n"
     ]
    }
   ],
   "source": [
    "print(len(text))#包含的总的字符数，包含字母和标点符号"
   ]
  },
  {
   "cell_type": "code",
   "execution_count": 3,
   "metadata": {},
   "outputs": [
    {
     "name": "stdout",
     "output_type": "stream",
     "text": [
      "Moe_Szyslak: (INTO PHONE) Moe's Tavern. Where the elite meet to drink.\n",
      "Bart_Simpson: Eh, yeah, hello, is Mike there? Last name, Rotch.\n",
      "Moe_Szyslak: (INTO PHONE) Hold on, I'll check. (TO BARFLIES) Mike Rotch. Mike Rotch. Hey, has anybody seen Mike Rotch, lately?\n",
      "Moe_Szyslak: (INTO PHONE) Listen you little puke. One of these days I'm gonna catch you, and I'm gonna carve my name on your back with an ice pick.\n",
      "Moe_Szyslak: What's the matter Homer? You're not your normal effervescent self.\n",
      "Homer_Simpson: I got my problems, Moe. Give me another one.\n",
      "Moe_Szyslak: Homer, hey, you should not drink to forget your problems.\n",
      "Barney_Gumble: Yeah, you should only drink to enhance your social skills.\n",
      "\n",
      "\n",
      "Moe_Szyslak: Ah, isn't that nice. Now, there is a politician who cares.\n",
      "Barney_Gumble: If I ever vote, it'll be for him. (BELCH)\n",
      "\n",
      "\n",
      "Barney_Gumble: Hey Homer, how's your neighbor's store doing?\n",
      "Homer_Simpson: Lousy. He just sits there all day. He'd have a great job if he didn't own the place. (CHUCKLES)\n",
      "\n"
     ]
    }
   ],
   "source": [
    "print(text[:1000])"
   ]
  },
  {
   "cell_type": "code",
   "execution_count": 4,
   "metadata": {},
   "outputs": [
    {
     "name": "stdout",
     "output_type": "stream",
     "text": [
      "Total words: 305189\n",
      "Unique words: 89\n"
     ]
    }
   ],
   "source": [
    "print(\"Total words: {}\".format(len(text)))#包含的总的字符数，包含字母和标点符号\n",
    "print(\"Unique words: {}\".format(len(set(text))))#包含的字符种类"
   ]
  },
  {
   "cell_type": "code",
   "execution_count": 28,
   "metadata": {},
   "outputs": [
    {
     "name": "stdout",
     "output_type": "stream",
     "text": [
      "Total words: 48974\n",
      "Unique words: 11492\n"
     ]
    }
   ],
   "source": [
    "# print(\"Total words: {}\".format(len(text.split())))\n",
    "# print(\"Unique words: {}\".format(len(set(text.split()))))"
   ]
  },
  {
   "cell_type": "markdown",
   "metadata": {},
   "source": [
    "## Explore the Data\n",
    "Play around with `view_sentence_range` to view different parts of the data."
   ]
  },
  {
   "cell_type": "code",
   "execution_count": 11,
   "metadata": {},
   "outputs": [
    {
     "name": "stdout",
     "output_type": "stream",
     "text": [
      "Help on method_descriptor:\n",
      "\n",
      "split(...)\n",
      "    S.split(sep=None, maxsplit=-1) -> list of strings\n",
      "    \n",
      "    Return a list of the words in S, using sep as the\n",
      "    delimiter string.  If maxsplit is given, at most maxsplit\n",
      "    splits are done. If sep is not specified or is None, any\n",
      "    whitespace string is a separator and empty strings are\n",
      "    removed from the result.\n",
      "\n",
      "None\n"
     ]
    }
   ],
   "source": [
    "print(help(str.split))#str.split(sep=None, maxsplit=-1),将字符串进行分割\n",
    "#str：   表示为分隔符，默认为空格，但是不能为空('')。若字符串中没有分隔符，则把整个字符串作为列表的一个元素\n",
    "#num：表示分割次数。如果存在参数num，则仅分隔成 num+1 个子字符串，并且每一个子字符串可以赋给新的变量"
   ]
  },
  {
   "cell_type": "code",
   "execution_count": 5,
   "metadata": {
    "scrolled": true
   },
   "outputs": [
    {
     "name": "stdout",
     "output_type": "stream",
     "text": [
      "Dataset Stats\n",
      "Roughly the number of unique words: 11492\n",
      "Number of scenes: 262\n",
      "Average number of sentences in each scene: 15.248091603053435\n",
      "Number of lines: 4257\n",
      "Average number of words in each line: 11.50434578341555\n",
      "\n",
      "The sentences 0 to 10:\n",
      "Moe_Szyslak: (INTO PHONE) Moe's Tavern. Where the elite meet to drink.\n",
      "Bart_Simpson: Eh, yeah, hello, is Mike there? Last name, Rotch.\n",
      "Moe_Szyslak: (INTO PHONE) Hold on, I'll check. (TO BARFLIES) Mike Rotch. Mike Rotch. Hey, has anybody seen Mike Rotch, lately?\n",
      "Moe_Szyslak: (INTO PHONE) Listen you little puke. One of these days I'm gonna catch you, and I'm gonna carve my name on your back with an ice pick.\n",
      "Moe_Szyslak: What's the matter Homer? You're not your normal effervescent self.\n",
      "Homer_Simpson: I got my problems, Moe. Give me another one.\n",
      "Moe_Szyslak: Homer, hey, you should not drink to forget your problems.\n",
      "Barney_Gumble: Yeah, you should only drink to enhance your social skills.\n",
      "\n",
      "\n"
     ]
    }
   ],
   "source": [
    "view_sentence_range = (0, 10)\n",
    "\n",
    "\"\"\"\n",
    "DON'T MODIFY ANYTHING IN THIS CELL\n",
    "\"\"\"\n",
    "import numpy as np\n",
    "\n",
    "print('Dataset Stats')\n",
    "print('Roughly the number of unique words: {}'.format(len({word: None for word in text.split()})))\n",
    "scenes = text.split('\\n\\n')#每组场景对话用两个换行符分割\n",
    "print('Number of scenes: {}'.format(len(scenes)))#有多少组场景对话\n",
    "sentence_count_scene = [scene.count('\\n') for scene in scenes]#每个场景有几句对白\n",
    "print('Average number of sentences in each scene: {}'.format(np.average(sentence_count_scene)))#场景对白均值\n",
    "\n",
    "sentences = [sentence for scene in scenes for sentence in scene.split('\\n')]\n",
    "print('Number of lines: {}'.format(len(sentences)))#有多少行对白\n",
    "word_count_sentence = [len(sentence.split()) for sentence in sentences]#每行对白有多少单词\n",
    "print('Average number of words in each line: {}'.format(np.average(word_count_sentence)))\n",
    "\n",
    "print()\n",
    "print('The sentences {} to {}:'.format(*view_sentence_range))\n",
    "print('\\n'.join(text.split('\\n')[view_sentence_range[0]:view_sentence_range[1]]))"
   ]
  },
  {
   "cell_type": "markdown",
   "metadata": {},
   "source": [
    "## Implement Preprocessing Functions\n",
    "The first thing to do to any dataset is preprocessing.  Implement the following preprocessing functions below:\n",
    "- Lookup Table\n",
    "- Tokenize Punctuation\n",
    "\n",
    "### Lookup Table\n",
    "To create a word embedding, you first need to transform the words to ids.  In this function, create two dictionaries:\n",
    "- Dictionary to go from the words to an id, we'll call `vocab_to_int`\n",
    "- Dictionary to go from the id to word, we'll call `int_to_vocab`\n",
    "\n",
    "Return these dictionaries in the following tuple `(vocab_to_int, int_to_vocab)`"
   ]
  },
  {
   "cell_type": "code",
   "execution_count": 6,
   "metadata": {},
   "outputs": [
    {
     "name": "stderr",
     "output_type": "stream",
     "text": [
      "D:\\ProgramData\\Anaconda3\\envs\\py35\\lib\\site-packages\\h5py\\__init__.py:34: FutureWarning: Conversion of the second argument of issubdtype from `float` to `np.floating` is deprecated. In future, it will be treated as `np.float64 == np.dtype(float).type`.\n",
      "  from ._conv import register_converters as _register_converters\n"
     ]
    },
    {
     "name": "stdout",
     "output_type": "stream",
     "text": [
      "Tests Passed\n"
     ]
    }
   ],
   "source": [
    "import numpy as np\n",
    "import problem_unittests as tests\n",
    "\n",
    "from collections import Counter\n",
    "\n",
    "def create_lookup_tables(text):\n",
    "    \"\"\"\n",
    "    Create lookup tables for vocabulary\n",
    "    :param text: The text of tv scripts split into words\n",
    "    :return: A tuple of dicts (vocab_to_int, int_to_vocab)\n",
    "    \"\"\"\n",
    "    # TODO: Implement Function\n",
    "    word_counts = Counter(text)\n",
    "    sorted_vocab = sorted(word_counts, key=word_counts.get, reverse=True)\n",
    "    int_to_vocab = {ii: word for ii, word in enumerate(sorted_vocab)}\n",
    "    vocab_to_int = {word: ii for ii, word in int_to_vocab.items()}\n",
    "\n",
    "    return vocab_to_int, int_to_vocab\n",
    "    \n",
    "\n",
    "\"\"\"\n",
    "DON'T MODIFY ANYTHING IN THIS CELL THAT IS BELOW THIS LINE\n",
    "\"\"\"\n",
    "tests.test_create_lookup_tables(create_lookup_tables)"
   ]
  },
  {
   "cell_type": "code",
   "execution_count": 7,
   "metadata": {},
   "outputs": [
    {
     "name": "stdout",
     "output_type": "stream",
     "text": [
      "Total words: 35\n",
      "Unique words: 28\n",
      "['moe_szyslak', \"moe's\", 'tavern', 'where', 'the', 'elite', 'meet', 'to', 'drink', 'bart_simpson', 'eh', 'yeah', 'hello', 'is', 'mike', 'there', 'last', 'name', 'rotch', 'moe_szyslak', 'hold', 'on', \"i'll\", 'check', 'mike', 'rotch', 'mike', 'rotch', 'hey', 'has', 'anybody', 'seen', 'mike', 'rotch', 'lately']\n",
      "{'anybody': 3, 'drink': 4, 'has': 5, 'eh': 6, 'hold': 7, 'meet': 8, 'to': 10, 'mike': 0, \"i'll\": 11, 'rotch': 1, 'is': 12, 'where': 18, 'moe_szyslak': 2, 'on': 14, 'check': 15, 'tavern': 16, 'yeah': 17, 'hello': 13, 'elite': 19, 'seen': 9, 'the': 21, 'lately': 22, 'there': 23, 'last': 27, 'hey': 24, 'name': 25, 'bart_simpson': 26, \"moe's\": 20}\n",
      "{0: 'mike', 1: 'rotch', 2: 'moe_szyslak', 3: 'anybody', 4: 'drink', 5: 'has', 6: 'eh', 7: 'hold', 8: 'meet', 9: 'seen', 10: 'to', 11: \"i'll\", 12: 'is', 13: 'hello', 14: 'on', 15: 'check', 16: 'tavern', 17: 'yeah', 18: 'where', 19: 'elite', 20: \"moe's\", 21: 'the', 22: 'lately', 23: 'there', 24: 'hey', 25: 'name', 26: 'bart_simpson', 27: 'last'}\n"
     ]
    }
   ],
   "source": [
    "test_text = '''\n",
    "        Moe_Szyslak Moe's Tavern Where the elite meet to drink\n",
    "        Bart_Simpson Eh yeah hello is Mike there Last name Rotch\n",
    "        Moe_Szyslak Hold on I'll check Mike Rotch Mike Rotch Hey has anybody seen Mike Rotch lately'''\n",
    "\n",
    "# print(\"Total words: {}\".format(len(test_text)))\n",
    "# print(\"Unique words: {}\".format(len(set(test_text))))\n",
    "\n",
    "test_text = test_text.lower()\n",
    "test_text = test_text.split()\n",
    "\n",
    "print(\"Total words: {}\".format(len(test_text)))\n",
    "print(\"Unique words: {}\".format(len(set(test_text))))\n",
    "\n",
    "print(test_text)\n",
    "\n",
    "vocab_to_int, int_to_vocab = create_lookup_tables(test_text)\n",
    "print(vocab_to_int)\n",
    "print(int_to_vocab)\n"
   ]
  },
  {
   "cell_type": "markdown",
   "metadata": {},
   "source": [
    "### Tokenize Punctuation\n",
    "We'll be splitting the script into a word array using spaces as delimiters.  However, punctuations like periods and exclamation marks make it hard for the neural network to distinguish between the word \"bye\" and \"bye!\".\n",
    "\n",
    "Implement the function `token_lookup` to return a dict that will be used to tokenize symbols like \"!\" into \"||Exclamation_Mark||\".  Create a dictionary for the following symbols where the symbol is the key and value is the token:\n",
    "- Period ( . )\n",
    "- Comma ( , )\n",
    "- Quotation Mark ( \" )\n",
    "- Semicolon ( ; )\n",
    "- Exclamation mark ( ! )\n",
    "- Question mark ( ? )\n",
    "- Left Parentheses ( ( )\n",
    "- Right Parentheses ( ) )\n",
    "- Dash ( -- )\n",
    "- Return ( \\n )\n",
    "\n",
    "This dictionary will be used to token the symbols and add the delimiter (space) around it.  This separates the symbols as it's own word, making it easier for the neural network to predict on the next word. Make sure you don't use a token that could be confused as a word. Instead of using the token \"dash\", try using something like \"||dash||\"."
   ]
  },
  {
   "cell_type": "code",
   "execution_count": 8,
   "metadata": {},
   "outputs": [
    {
     "name": "stdout",
     "output_type": "stream",
     "text": [
      "Tests Passed\n"
     ]
    }
   ],
   "source": [
    "def token_lookup():\n",
    "    \"\"\"\n",
    "    Generate a dict to turn punctuation into a token.\n",
    "    :return: Tokenize dictionary where the key is the punctuation and the value is the token\n",
    "    \"\"\"\n",
    "    # TODO: Implement Function\n",
    "    token_dict={}\n",
    "    token_dict={'.': '<PERIOD>', ',': '<COMMA>', '\"': '<QUOTATION_MARK>', ';': '<SEMICOLON>',\n",
    "                '!': '<EXCLAMATION_MARK>', '?': '<QUESTION_MARK>', '(': '<LEFT_PAREN>',\n",
    "                ')': '<RIGHT_PAREN>', '--': '<DASH>', '\\n': '<RETURN>'}\n",
    "    \n",
    "    return token_dict\n",
    "\n",
    "\"\"\"\n",
    "DON'T MODIFY ANYTHING IN THIS CELL THAT IS BELOW THIS LINE\n",
    "\"\"\"\n",
    "tests.test_tokenize(token_lookup)"
   ]
  },
  {
   "cell_type": "markdown",
   "metadata": {},
   "source": [
    "## Preprocess all the data and save it\n",
    "Running the code cell below will preprocess all the data and save it to file."
   ]
  },
  {
   "cell_type": "code",
   "execution_count": 9,
   "metadata": {
    "collapsed": true
   },
   "outputs": [],
   "source": [
    "\"\"\"\n",
    "DON'T MODIFY ANYTHING IN THIS CELL\n",
    "\"\"\"\n",
    "# Preprocess Training, Validation, and Testing Data\n",
    "helper.preprocess_and_save_data(data_dir, token_lookup, create_lookup_tables)"
   ]
  },
  {
   "cell_type": "markdown",
   "metadata": {},
   "source": [
    "# Check Point\n",
    "This is your first checkpoint. If you ever decide to come back to this notebook or have to restart the notebook, you can start from here. The preprocessed data has been saved to disk."
   ]
  },
  {
   "cell_type": "code",
   "execution_count": 3,
   "metadata": {},
   "outputs": [
    {
     "name": "stderr",
     "output_type": "stream",
     "text": [
      "D:\\ProgramData\\Anaconda3\\envs\\py35\\lib\\site-packages\\h5py\\__init__.py:34: FutureWarning: Conversion of the second argument of issubdtype from `float` to `np.floating` is deprecated. In future, it will be treated as `np.float64 == np.dtype(float).type`.\n",
      "  from ._conv import register_converters as _register_converters\n"
     ]
    }
   ],
   "source": [
    "\"\"\"\n",
    "DON'T MODIFY ANYTHING IN THIS CELL\n",
    "\"\"\"\n",
    "import helper\n",
    "import numpy as np\n",
    "import problem_unittests as tests\n",
    "\n",
    "int_text, vocab_to_int, int_to_vocab, token_dict = helper.load_preprocess()"
   ]
  },
  {
   "cell_type": "markdown",
   "metadata": {},
   "source": [
    "## Build the Neural Network\n",
    "You'll build the components necessary to build a RNN by implementing the following functions below:\n",
    "- get_inputs\n",
    "- get_init_cell\n",
    "- get_embed\n",
    "- build_rnn\n",
    "- build_nn\n",
    "- get_batches\n",
    "\n",
    "### Check the Version of TensorFlow and Access to GPU"
   ]
  },
  {
   "cell_type": "code",
   "execution_count": 4,
   "metadata": {},
   "outputs": [
    {
     "name": "stdout",
     "output_type": "stream",
     "text": [
      "TensorFlow Version: 1.1.0\n"
     ]
    },
    {
     "name": "stderr",
     "output_type": "stream",
     "text": [
      "D:\\ProgramData\\Anaconda3\\envs\\py35\\lib\\site-packages\\ipykernel_launcher.py:14: UserWarning: No GPU found. Please use a GPU to train your neural network.\n",
      "  \n"
     ]
    }
   ],
   "source": [
    "\"\"\"\n",
    "DON'T MODIFY ANYTHING IN THIS CELL\n",
    "\"\"\"\n",
    "from distutils.version import LooseVersion\n",
    "import warnings\n",
    "import tensorflow as tf\n",
    "\n",
    "# Check TensorFlow Version\n",
    "assert LooseVersion(tf.__version__) >= LooseVersion('1.0'), 'Please use TensorFlow version 1.0 or newer'\n",
    "print('TensorFlow Version: {}'.format(tf.__version__))\n",
    "\n",
    "# Check for a GPU\n",
    "if not tf.test.gpu_device_name():\n",
    "    warnings.warn('No GPU found. Please use a GPU to train your neural network.')\n",
    "else:\n",
    "    print('Default GPU Device: {}'.format(tf.test.gpu_device_name()))\n"
   ]
  },
  {
   "cell_type": "markdown",
   "metadata": {},
   "source": [
    "### Input\n",
    "Implement the `get_inputs()` function to create TF Placeholders for the Neural Network.  It should create the following placeholders:\n",
    "- Input text placeholder named \"input\" using the [TF Placeholder](https://www.tensorflow.org/api_docs/python/tf/placeholder) `name` parameter.\n",
    "- Targets placeholder\n",
    "- Learning Rate placeholder\n",
    "\n",
    "Return the placeholders in the following tuple `(Input, Targets, LearningRate)`"
   ]
  },
  {
   "cell_type": "code",
   "execution_count": 3,
   "metadata": {},
   "outputs": [
    {
     "name": "stdout",
     "output_type": "stream",
     "text": [
      "Tests Passed\n"
     ]
    }
   ],
   "source": [
    "def get_inputs():\n",
    "    \"\"\"\n",
    "    Create TF Placeholders for input, targets, and learning rate.\n",
    "    :return: Tuple (input, targets, learning rate)\n",
    "    \"\"\"\n",
    "    # TODO: Implement Function\n",
    "    inputs = tf.placeholder(tf.int32,[None,None],name='input')\n",
    "    targets = tf.placeholder(tf.int32,[None,None],name='targets')\n",
    "    lr = tf.placeholder(tf.float32,name='lr')\n",
    "    return inputs, targets, lr\n",
    "\n",
    "\"\"\"\n",
    "DON'T MODIFY ANYTHING IN THIS CELL THAT IS BELOW THIS LINE\n",
    "\"\"\"\n",
    "tests.test_get_inputs(get_inputs)"
   ]
  },
  {
   "cell_type": "markdown",
   "metadata": {},
   "source": [
    "### Build RNN Cell and Initialize\n",
    "Stack one or more [`BasicLSTMCells`](https://www.tensorflow.org/api_docs/python/tf/contrib/rnn/BasicLSTMCell) in a [`MultiRNNCell`](https://www.tensorflow.org/api_docs/python/tf/contrib/rnn/MultiRNNCell).\n",
    "- The Rnn size should be set using `rnn_size`\n",
    "- Initalize Cell State using the MultiRNNCell's [`zero_state()`](https://www.tensorflow.org/api_docs/python/tf/contrib/rnn/MultiRNNCell#zero_state) function\n",
    "    - Apply the name \"initial_state\" to the initial state using [`tf.identity()`](https://www.tensorflow.org/api_docs/python/tf/identity)\n",
    "\n",
    "Return the cell and initial state in the following tuple `(Cell, InitialState)`"
   ]
  },
  {
   "cell_type": "code",
   "execution_count": 4,
   "metadata": {
    "collapsed": true
   },
   "outputs": [],
   "source": [
    "def create_cell(rnn_size,keep_prob):\n",
    "    lstm = tf.contrib.rnn.BasicLSTMCell(rnn_size)\n",
    "    drop = tf.contrib.rnn.DropoutWrapper(lstm, output_keep_prob=keep_prob)\n",
    "    return drop\n"
   ]
  },
  {
   "cell_type": "code",
   "execution_count": 5,
   "metadata": {},
   "outputs": [
    {
     "name": "stdout",
     "output_type": "stream",
     "text": [
      "Tests Passed\n"
     ]
    }
   ],
   "source": [
    "#由于版本的问题，参考论坛加了上面的cell创建函数\n",
    "\n",
    "def get_init_cell(batch_size, rnn_size):\n",
    "    \"\"\"\n",
    "    Create an RNN Cell and initialize it.\n",
    "    :param batch_size: Size of batches\n",
    "    :param rnn_size: Size of RNNs\n",
    "    :return: Tuple (cell, initialize state)\n",
    "    \"\"\"\n",
    "    # TODO: Implement Function\n",
    "    \n",
    "    # lstm层数\n",
    "    num_layers = 2#1或2\n",
    "\n",
    "    # dropout时的保留概率\n",
    "    keep_prob = 0.8\n",
    "    #drop=create_cell(rnn_size,keep_prob)\n",
    "    \n",
    "#     # Your basic LSTM cell\n",
    "#     lstm = tf.contrib.rnn.BasicLSTMCell(rnn_size)\n",
    "    \n",
    "#     # Add dropout to the cell\n",
    "#     drop = tf.contrib.rnn.DropoutWrapper(lstm, output_keep_prob=keep_prob)\n",
    "    \n",
    "    # Stack up multiple LSTM layers, for deep learning\n",
    "    cell = tf.contrib.rnn.MultiRNNCell([create_cell(rnn_size,keep_prob) for _ in range(num_layers)])\n",
    "    \n",
    "    # Getting an initial state of all zeros\n",
    "    initial_state = tf.identity(cell.zero_state(batch_size, tf.float32),name=\"initial_state\")\n",
    "    return cell, initial_state\n",
    "\n",
    "\n",
    "\"\"\"\n",
    "DON'T MODIFY ANYTHING IN THIS CELL THAT IS BELOW THIS LINE\n",
    "\"\"\"\n",
    "tests.test_get_init_cell(get_init_cell)"
   ]
  },
  {
   "cell_type": "markdown",
   "metadata": {},
   "source": [
    "### Word Embedding\n",
    "Apply embedding to `input_data` using TensorFlow.  Return the embedded sequence."
   ]
  },
  {
   "cell_type": "code",
   "execution_count": 6,
   "metadata": {},
   "outputs": [
    {
     "name": "stdout",
     "output_type": "stream",
     "text": [
      "Tests Passed\n"
     ]
    }
   ],
   "source": [
    "def get_embed(input_data, vocab_size, embed_dim):\n",
    "    \"\"\"\n",
    "    Create embedding for <input_data>.\n",
    "    :param input_data: TF placeholder for text input.\n",
    "    :param vocab_size: Number of words in vocabulary.\n",
    "    :param embed_dim: Number of embedding dimensions\n",
    "    :return: Embedded input.\n",
    "    \"\"\"\n",
    "    # TODO: Implement Function\n",
    "    embedding = tf.Variable(tf.random_uniform((vocab_size, embed_dim), -1, 1))\n",
    "    embed = tf.nn.embedding_lookup(embedding, input_data)\n",
    "    return embed\n",
    "\n",
    "\n",
    "\"\"\"\n",
    "DON'T MODIFY ANYTHING IN THIS CELL THAT IS BELOW THIS LINE\n",
    "\"\"\"\n",
    "tests.test_get_embed(get_embed)"
   ]
  },
  {
   "cell_type": "markdown",
   "metadata": {},
   "source": [
    "### Build RNN\n",
    "You created a RNN Cell in the `get_init_cell()` function.  Time to use the cell to create a RNN.\n",
    "- Build the RNN using the [`tf.nn.dynamic_rnn()`](https://www.tensorflow.org/api_docs/python/tf/nn/dynamic_rnn)\n",
    " - Apply the name \"final_state\" to the final state using [`tf.identity()`](https://www.tensorflow.org/api_docs/python/tf/identity)\n",
    "\n",
    "Return the outputs and final_state state in the following tuple `(Outputs, FinalState)` "
   ]
  },
  {
   "cell_type": "code",
   "execution_count": 7,
   "metadata": {},
   "outputs": [
    {
     "name": "stdout",
     "output_type": "stream",
     "text": [
      "Tests Passed\n"
     ]
    }
   ],
   "source": [
    "def build_rnn(cell, inputs):\n",
    "    \"\"\"\n",
    "    Create a RNN using a RNN Cell\n",
    "    :param cell: RNN Cell\n",
    "    :param inputs: Input text data\n",
    "    :return: Tuple (Outputs, Final State)\n",
    "    \"\"\"\n",
    "    # TODO: Implement Function\n",
    "    outputs, final_state = tf.nn.dynamic_rnn(cell, inputs, dtype=tf.float32)\n",
    "    final_state = tf.identity(final_state,name=\"final_state\")\n",
    "    return outputs, final_state\n",
    "\n",
    "\"\"\"\n",
    "DON'T MODIFY ANYTHING IN THIS CELL THAT IS BELOW THIS LINE\n",
    "\"\"\"\n",
    "tests.test_build_rnn(build_rnn)"
   ]
  },
  {
   "cell_type": "markdown",
   "metadata": {},
   "source": [
    "### Build the Neural Network\n",
    "Apply the functions you implemented above to:\n",
    "- Apply embedding to `input_data` using your `get_embed(input_data, vocab_size, embed_dim)` function.\n",
    "- Build RNN using `cell` and your `build_rnn(cell, inputs)` function.\n",
    "- Apply a fully connected layer with a linear activation and `vocab_size` as the number of outputs.\n",
    "\n",
    "Return the logits and final state in the following tuple (Logits, FinalState) "
   ]
  },
  {
   "cell_type": "code",
   "execution_count": 9,
   "metadata": {},
   "outputs": [
    {
     "name": "stdout",
     "output_type": "stream",
     "text": [
      "Tests Passed\n"
     ]
    }
   ],
   "source": [
    "def build_nn(cell, rnn_size, input_data, vocab_size, embed_dim):\n",
    "    \"\"\"\n",
    "    Build part of the neural network\n",
    "    :param cell: RNN cell\n",
    "    :param rnn_size: Size of rnns\n",
    "    :param input_data: Input data\n",
    "    :param vocab_size: Vocabulary size\n",
    "    :param embed_dim: Number of embedding dimensions\n",
    "    :return: Tuple (Logits, FinalState)\n",
    "    \"\"\"\n",
    "    # TODO: Implement Function\n",
    "    \n",
    "    embed=get_embed(input_data, vocab_size, embed_dim)\n",
    "    \n",
    "    outputs, final_state = build_rnn(cell, embed)\n",
    "    \n",
    "    logits = tf.contrib.layers.fully_connected(outputs, vocab_size, activation_fn=None,\n",
    "                                               weights_initializer = tf.truncated_normal_initializer(stddev=0.1),\n",
    "                                              biases_initializer=tf.zeros_initializer())\n",
    "    return logits, final_state\n",
    "\n",
    "\n",
    "\"\"\"\n",
    "DON'T MODIFY ANYTHING IN THIS CELL THAT IS BELOW THIS LINE\n",
    "\"\"\"\n",
    "tests.test_build_nn(build_nn)"
   ]
  },
  {
   "cell_type": "markdown",
   "metadata": {},
   "source": [
    "### Batches\n",
    "Implement `get_batches` to create batches of input and targets using `int_text`.  The batches should be a Numpy array with the shape `(number of batches, 2, batch size, sequence length)`. Each batch contains two elements:\n",
    "- The first element is a single batch of **input** with the shape `[batch size, sequence length]`\n",
    "- The second element is a single batch of **targets** with the shape `[batch size, sequence length]`\n",
    "\n",
    "If you can't fill the last batch with enough data, drop the last batch.\n",
    "\n",
    "For example, `get_batches([1, 2, 3, 4, 5, 6, 7, 8, 9, 10, 11, 12, 13, 14, 15, 16, 17, 18, 19, 20], 3, 2)` would return a Numpy array of the following:\n",
    "```\n",
    "[\n",
    "  # First Batch\n",
    "  [\n",
    "    # Batch of Input\n",
    "    [[ 1  2], [ 7  8], [13 14]]\n",
    "    # Batch of targets\n",
    "    [[ 2  3], [ 8  9], [14 15]]\n",
    "  ]\n",
    "\n",
    "  # Second Batch\n",
    "  [\n",
    "    # Batch of Input\n",
    "    [[ 3  4], [ 9 10], [15 16]]\n",
    "    # Batch of targets\n",
    "    [[ 4  5], [10 11], [16 17]]\n",
    "  ]\n",
    "\n",
    "  # Third Batch\n",
    "  [\n",
    "    # Batch of Input\n",
    "    [[ 5  6], [11 12], [17 18]]\n",
    "    # Batch of targets\n",
    "    [[ 6  7], [12 13], [18  1]]\n",
    "  ]\n",
    "]\n",
    "```\n",
    "\n",
    "Notice that the last target value in the last batch is the first input value of the first batch. In this case, `1`. This is a common technique used when creating sequence batches, although it is rather unintuitive."
   ]
  },
  {
   "cell_type": "code",
   "execution_count": 10,
   "metadata": {},
   "outputs": [
    {
     "name": "stdout",
     "output_type": "stream",
     "text": [
      "Tests Passed\n"
     ]
    }
   ],
   "source": [
    "def get_batches(int_text, batch_size, seq_length):#这个函数还挺难的，查阅了一些博客才完成\n",
    "    \"\"\"\n",
    "    Return batches of input and target\n",
    "    :param int_text: Text with the words replaced by their ids\n",
    "    :param batch_size: The size of batch\n",
    "    :param seq_length: The length of sequence\n",
    "    :return: Batches as a Numpy array\n",
    "    \"\"\"\n",
    "    # TODO: Implement Function\n",
    "    \n",
    "    # Get the number of characters per batch and number of batches we can make\n",
    "    chars_per_batch = batch_size * seq_length#每个batch的单词量\n",
    "    n_batches = len(int_text)//chars_per_batch#向上取整，batch的数量\n",
    "    \n",
    "#     # Keep only enough characters to make full batches\n",
    "#     int_text = int_text[:n_batches * chars_per_batch]\n",
    "    \n",
    "    # clip arrays to ensure we have complete batches for inputs, targets same but moved one unit over\n",
    "    input_data = np.array(int_text[:n_batches * chars_per_batch])\n",
    "    target_data = np.array(int_text[1 : n_batches * chars_per_batch + 1])#后移一位\n",
    "    \n",
    "    # Reshape into batch_size rows\n",
    "    inputs = input_data.reshape(batch_size, -1)\n",
    "    targets = target_data.reshape(batch_size, -1)\n",
    "\n",
    "    inputs = np.split(inputs, n_batches, 1)#分割数据列表\n",
    "    targets = np.split(targets, n_batches, 1)\n",
    "    \n",
    "    batches = np.array(list(zip(inputs, targets)))#合并两个nupmy数据\n",
    "    batches [-1][-1][-1][-1] = batches [0][0][0][0] # 将targets的数据的最后一位，设置成原始数据的第一位\n",
    "    \n",
    "    return batches\n",
    "\n",
    "\n",
    "\"\"\"\n",
    "DON'T MODIFY ANYTHING IN THIS CELL THAT IS BELOW THIS LINE\n",
    "\"\"\"\n",
    "tests.test_get_batches(get_batches)"
   ]
  },
  {
   "cell_type": "markdown",
   "metadata": {},
   "source": [
    "## Neural Network Training\n",
    "### Hyperparameters\n",
    "Tune the following parameters:\n",
    "\n",
    "- Set `num_epochs` to the number of epochs.\n",
    "- Set `batch_size` to the batch size.\n",
    "- Set `rnn_size` to the size of the RNNs.\n",
    "- Set `embed_dim` to the size of the embedding.\n",
    "- Set `seq_length` to the length of sequence.\n",
    "- Set `learning_rate` to the learning rate.\n",
    "- Set `show_every_n_batches` to the number of batches the neural network should print progress."
   ]
  },
  {
   "cell_type": "code",
   "execution_count": 5,
   "metadata": {
    "collapsed": true
   },
   "outputs": [],
   "source": [
    "# Number of Epochs\n",
    "num_epochs = 150\n",
    "# Batch Size\n",
    "batch_size = 128#128或者256\n",
    "# RNN Size\n",
    "rnn_size = 256#256或者512\n",
    "# Embedding Dimension Size\n",
    "embed_dim = 500\n",
    "# Sequence Length\n",
    "seq_length = 16#16或者32\n",
    "# Learning Rate\n",
    "learning_rate = 0.002\n",
    "# Show stats for every n number of batches\n",
    "show_every_n_batches = 20\n",
    "\n",
    "\"\"\"\n",
    "DON'T MODIFY ANYTHING IN THIS CELL THAT IS BELOW THIS LINE\n",
    "\"\"\"\n",
    "save_dir = './save'"
   ]
  },
  {
   "cell_type": "markdown",
   "metadata": {},
   "source": [
    "### Build the Graph\n",
    "Build the graph using the neural network you implemented."
   ]
  },
  {
   "cell_type": "code",
   "execution_count": 12,
   "metadata": {
    "collapsed": true
   },
   "outputs": [],
   "source": [
    "\"\"\"\n",
    "DON'T MODIFY ANYTHING IN THIS CELL\n",
    "\"\"\"\n",
    "from tensorflow.contrib import seq2seq\n",
    "\n",
    "train_graph = tf.Graph()\n",
    "with train_graph.as_default():\n",
    "    vocab_size = len(int_to_vocab)\n",
    "    input_text, targets, lr = get_inputs()\n",
    "    input_data_shape = tf.shape(input_text)\n",
    "    cell, initial_state = get_init_cell(input_data_shape[0], rnn_size)\n",
    "    logits, final_state = build_nn(cell, rnn_size, input_text, vocab_size, embed_dim)\n",
    "\n",
    "    # Probabilities for generating words\n",
    "    probs = tf.nn.softmax(logits, name='probs')\n",
    "\n",
    "    # Loss function\n",
    "    cost = seq2seq.sequence_loss(\n",
    "        logits,\n",
    "        targets,\n",
    "        tf.ones([input_data_shape[0], input_data_shape[1]]))\n",
    "\n",
    "    # Optimizer\n",
    "    optimizer = tf.train.AdamOptimizer(lr)\n",
    "\n",
    "    # Gradient Clipping\n",
    "    gradients = optimizer.compute_gradients(cost)\n",
    "    capped_gradients = [(tf.clip_by_value(grad, -1., 1.), var) for grad, var in gradients if grad is not None]\n",
    "    train_op = optimizer.apply_gradients(capped_gradients)\n"
   ]
  },
  {
   "cell_type": "markdown",
   "metadata": {},
   "source": [
    "## Train\n",
    "Train the neural network on the preprocessed data.  If you have a hard time getting a good loss, check the [forums](https://discussions.udacity.com/) to see if anyone is having the same problem."
   ]
  },
  {
   "cell_type": "code",
   "execution_count": null,
   "metadata": {},
   "outputs": [
    {
     "name": "stdout",
     "output_type": "stream",
     "text": [
      "Epoch   0 Batch    0/33   train_loss = 8.835\n",
      "Epoch   0 Batch   20/33   train_loss = 6.064\n",
      "after 0 epoch_i, save the model.\n",
      "Epoch   1 Batch    7/33   train_loss = 5.567\n",
      "Epoch   1 Batch   27/33   train_loss = 5.400\n",
      "Epoch   2 Batch   14/33   train_loss = 5.242\n",
      "Epoch   3 Batch    1/33   train_loss = 4.839\n",
      "Epoch   3 Batch   21/33   train_loss = 4.970\n",
      "Epoch   4 Batch    8/33   train_loss = 4.779\n",
      "Epoch   4 Batch   28/33   train_loss = 4.701\n",
      "Epoch   5 Batch   15/33   train_loss = 4.543\n",
      "Epoch   6 Batch    2/33   train_loss = 4.388\n",
      "Epoch   6 Batch   22/33   train_loss = 4.485\n",
      "Epoch   7 Batch    9/33   train_loss = 4.275\n",
      "Epoch   7 Batch   29/33   train_loss = 4.268\n",
      "Epoch   8 Batch   16/33   train_loss = 4.211\n",
      "Epoch   9 Batch    3/33   train_loss = 4.034\n",
      "Epoch   9 Batch   23/33   train_loss = 4.125\n",
      "Epoch  10 Batch   10/33   train_loss = 4.108\n",
      "Epoch  10 Batch   30/33   train_loss = 3.980\n",
      "after 10 epoch_i, save the model.\n",
      "Epoch  11 Batch   17/33   train_loss = 3.918\n",
      "Epoch  12 Batch    4/33   train_loss = 3.809\n",
      "Epoch  12 Batch   24/33   train_loss = 3.807\n",
      "Epoch  13 Batch   11/33   train_loss = 3.594\n",
      "Epoch  13 Batch   31/33   train_loss = 3.626\n",
      "Epoch  14 Batch   18/33   train_loss = 3.639\n",
      "Epoch  15 Batch    5/33   train_loss = 3.566\n",
      "Epoch  15 Batch   25/33   train_loss = 3.526\n",
      "Epoch  16 Batch   12/33   train_loss = 3.478\n",
      "Epoch  16 Batch   32/33   train_loss = 3.382\n",
      "Epoch  17 Batch   19/33   train_loss = 3.326\n",
      "Epoch  18 Batch    6/33   train_loss = 3.294\n",
      "Epoch  18 Batch   26/33   train_loss = 3.199\n",
      "Epoch  19 Batch   13/33   train_loss = 3.205\n",
      "Epoch  20 Batch    0/33   train_loss = 3.071\n",
      "Epoch  20 Batch   20/33   train_loss = 3.091\n",
      "after 20 epoch_i, save the model.\n",
      "Epoch  21 Batch    7/33   train_loss = 3.079\n",
      "Epoch  21 Batch   27/33   train_loss = 3.066\n",
      "Epoch  22 Batch   14/33   train_loss = 2.909\n",
      "Epoch  23 Batch    1/33   train_loss = 2.774\n",
      "Epoch  23 Batch   21/33   train_loss = 2.777\n",
      "Epoch  24 Batch    8/33   train_loss = 2.784\n",
      "Epoch  24 Batch   28/33   train_loss = 2.696\n",
      "Epoch  25 Batch   15/33   train_loss = 2.603\n",
      "Epoch  26 Batch    2/33   train_loss = 2.606\n",
      "Epoch  26 Batch   22/33   train_loss = 2.624\n",
      "Epoch  27 Batch    9/33   train_loss = 2.617\n",
      "Epoch  27 Batch   29/33   train_loss = 2.487\n",
      "Epoch  28 Batch   16/33   train_loss = 2.438\n",
      "Epoch  29 Batch    3/33   train_loss = 2.366\n",
      "Epoch  29 Batch   23/33   train_loss = 2.381\n",
      "Epoch  30 Batch   10/33   train_loss = 2.333\n",
      "Epoch  30 Batch   30/33   train_loss = 2.384\n",
      "after 30 epoch_i, save the model.\n",
      "Epoch  31 Batch   17/33   train_loss = 2.254\n",
      "Epoch  32 Batch    4/33   train_loss = 2.267\n",
      "Epoch  32 Batch   24/33   train_loss = 2.272\n",
      "Epoch  33 Batch   11/33   train_loss = 2.099\n",
      "Epoch  33 Batch   31/33   train_loss = 2.077\n",
      "Epoch  34 Batch   18/33   train_loss = 2.064\n",
      "Epoch  35 Batch    5/33   train_loss = 2.012\n",
      "Epoch  35 Batch   25/33   train_loss = 1.982\n",
      "Epoch  36 Batch   12/33   train_loss = 2.005\n",
      "Epoch  36 Batch   32/33   train_loss = 1.874\n",
      "Epoch  37 Batch   19/33   train_loss = 1.864\n",
      "Epoch  38 Batch    6/33   train_loss = 1.840\n",
      "Epoch  38 Batch   26/33   train_loss = 1.816\n",
      "Epoch  39 Batch   13/33   train_loss = 1.836\n",
      "Epoch  40 Batch    0/33   train_loss = 1.743\n",
      "Epoch  40 Batch   20/33   train_loss = 1.740\n",
      "after 40 epoch_i, save the model.\n",
      "Epoch  41 Batch    7/33   train_loss = 1.770\n",
      "Epoch  41 Batch   27/33   train_loss = 1.760\n",
      "Epoch  42 Batch   14/33   train_loss = 1.635\n",
      "Epoch  43 Batch    1/33   train_loss = 1.651\n",
      "Epoch  43 Batch   21/33   train_loss = 1.615\n",
      "Epoch  44 Batch    8/33   train_loss = 1.625\n",
      "Epoch  44 Batch   28/33   train_loss = 1.608\n",
      "Epoch  45 Batch   15/33   train_loss = 1.565\n",
      "Epoch  46 Batch    2/33   train_loss = 1.571\n",
      "Epoch  46 Batch   22/33   train_loss = 1.504\n",
      "Epoch  47 Batch    9/33   train_loss = 1.611\n",
      "Epoch  47 Batch   29/33   train_loss = 1.439\n",
      "Epoch  48 Batch   16/33   train_loss = 1.437\n",
      "Epoch  49 Batch    3/33   train_loss = 1.431\n",
      "Epoch  49 Batch   23/33   train_loss = 1.339\n",
      "Epoch  50 Batch   10/33   train_loss = 1.365\n",
      "Epoch  50 Batch   30/33   train_loss = 1.394\n",
      "after 50 epoch_i, save the model.\n",
      "Epoch  51 Batch   17/33   train_loss = 1.355\n",
      "Epoch  52 Batch    4/33   train_loss = 1.322\n",
      "Epoch  52 Batch   24/33   train_loss = 1.355\n",
      "Epoch  53 Batch   11/33   train_loss = 1.287\n",
      "Epoch  53 Batch   31/33   train_loss = 1.269\n",
      "Epoch  54 Batch   18/33   train_loss = 1.278\n",
      "Epoch  55 Batch    5/33   train_loss = 1.199\n",
      "Epoch  55 Batch   25/33   train_loss = 1.196\n",
      "Epoch  56 Batch   12/33   train_loss = 1.218\n",
      "Epoch  56 Batch   32/33   train_loss = 1.100\n",
      "Epoch  57 Batch   19/33   train_loss = 1.133\n",
      "Epoch  58 Batch    6/33   train_loss = 1.153\n",
      "Epoch  58 Batch   26/33   train_loss = 1.102\n",
      "Epoch  59 Batch   13/33   train_loss = 1.151\n",
      "Epoch  60 Batch    0/33   train_loss = 1.124\n",
      "Epoch  60 Batch   20/33   train_loss = 1.079\n",
      "after 60 epoch_i, save the model.\n",
      "Epoch  61 Batch    7/33   train_loss = 1.078\n",
      "Epoch  61 Batch   27/33   train_loss = 1.083\n",
      "Epoch  62 Batch   14/33   train_loss = 1.018\n",
      "Epoch  63 Batch    1/33   train_loss = 1.039\n",
      "Epoch  63 Batch   21/33   train_loss = 1.008\n",
      "Epoch  64 Batch    8/33   train_loss = 0.983\n",
      "Epoch  64 Batch   28/33   train_loss = 0.943\n",
      "Epoch  65 Batch   15/33   train_loss = 0.951\n",
      "Epoch  66 Batch    2/33   train_loss = 1.017\n",
      "Epoch  66 Batch   22/33   train_loss = 0.882\n",
      "Epoch  67 Batch    9/33   train_loss = 0.976\n",
      "Epoch  67 Batch   29/33   train_loss = 0.913\n",
      "Epoch  68 Batch   16/33   train_loss = 0.905\n",
      "Epoch  69 Batch    3/33   train_loss = 0.899\n",
      "Epoch  69 Batch   23/33   train_loss = 0.885\n",
      "Epoch  70 Batch   10/33   train_loss = 0.832\n",
      "Epoch  70 Batch   30/33   train_loss = 0.891\n",
      "after 70 epoch_i, save the model.\n",
      "Epoch  71 Batch   17/33   train_loss = 0.867\n",
      "Epoch  72 Batch    4/33   train_loss = 0.838\n",
      "Epoch  72 Batch   24/33   train_loss = 0.865\n",
      "Epoch  73 Batch   11/33   train_loss = 0.819\n",
      "Epoch  73 Batch   31/33   train_loss = 0.820\n",
      "Epoch  74 Batch   18/33   train_loss = 0.782\n",
      "Epoch  75 Batch    5/33   train_loss = 0.766\n",
      "Epoch  75 Batch   25/33   train_loss = 0.775\n",
      "Epoch  76 Batch   12/33   train_loss = 0.804\n",
      "Epoch  76 Batch   32/33   train_loss = 0.723\n",
      "Epoch  77 Batch   19/33   train_loss = 0.729\n",
      "Epoch  78 Batch    6/33   train_loss = 0.713\n",
      "Epoch  78 Batch   26/33   train_loss = 0.704\n",
      "Epoch  79 Batch   13/33   train_loss = 0.726\n",
      "Epoch  80 Batch    0/33   train_loss = 0.703\n",
      "Epoch  80 Batch   20/33   train_loss = 0.680\n",
      "after 80 epoch_i, save the model.\n",
      "Epoch  81 Batch    7/33   train_loss = 0.732\n",
      "Epoch  81 Batch   27/33   train_loss = 0.710\n",
      "Epoch  82 Batch   14/33   train_loss = 0.671\n",
      "Epoch  83 Batch    1/33   train_loss = 0.684\n",
      "Epoch  83 Batch   21/33   train_loss = 0.665\n",
      "Epoch  84 Batch    8/33   train_loss = 0.654\n",
      "Epoch  84 Batch   28/33   train_loss = 0.625\n",
      "Epoch  85 Batch   15/33   train_loss = 0.616\n",
      "Epoch  86 Batch    2/33   train_loss = 0.676\n",
      "Epoch  86 Batch   22/33   train_loss = 0.588\n",
      "Epoch  87 Batch    9/33   train_loss = 0.662\n",
      "Epoch  87 Batch   29/33   train_loss = 0.626\n",
      "Epoch  88 Batch   16/33   train_loss = 0.651\n",
      "Epoch  89 Batch    3/33   train_loss = 0.620\n",
      "Epoch  89 Batch   23/33   train_loss = 0.610\n",
      "Epoch  90 Batch   10/33   train_loss = 0.563\n",
      "Epoch  90 Batch   30/33   train_loss = 0.603\n",
      "after 90 epoch_i, save the model.\n",
      "Epoch  91 Batch   17/33   train_loss = 0.600\n",
      "Epoch  92 Batch    4/33   train_loss = 0.596\n",
      "Epoch  92 Batch   24/33   train_loss = 0.596\n",
      "Epoch  93 Batch   11/33   train_loss = 0.582\n",
      "Epoch  93 Batch   31/33   train_loss = 0.583\n",
      "Epoch  94 Batch   18/33   train_loss = 0.558\n",
      "Epoch  95 Batch    5/33   train_loss = 0.535\n",
      "Epoch  95 Batch   25/33   train_loss = 0.552\n",
      "Epoch  96 Batch   12/33   train_loss = 0.570\n",
      "Epoch  96 Batch   32/33   train_loss = 0.504\n",
      "Epoch  97 Batch   19/33   train_loss = 0.529\n",
      "Epoch  98 Batch    6/33   train_loss = 0.497\n",
      "Epoch  98 Batch   26/33   train_loss = 0.494\n",
      "Epoch  99 Batch   13/33   train_loss = 0.527\n",
      "Epoch 100 Batch    0/33   train_loss = 0.518\n",
      "Epoch 100 Batch   20/33   train_loss = 0.510\n",
      "after 100 epoch_i, save the model.\n",
      "Epoch 101 Batch    7/33   train_loss = 0.509\n",
      "Epoch 101 Batch   27/33   train_loss = 0.511\n",
      "Epoch 102 Batch   14/33   train_loss = 0.493\n",
      "Epoch 103 Batch    1/33   train_loss = 0.504\n",
      "Epoch 103 Batch   21/33   train_loss = 0.503\n",
      "Epoch 104 Batch    8/33   train_loss = 0.511\n",
      "Epoch 104 Batch   28/33   train_loss = 0.462\n"
     ]
    },
    {
     "name": "stdout",
     "output_type": "stream",
     "text": [
      "Epoch 105 Batch   15/33   train_loss = 0.456\n",
      "Epoch 106 Batch    2/33   train_loss = 0.493\n",
      "Epoch 106 Batch   22/33   train_loss = 0.442\n",
      "Epoch 107 Batch    9/33   train_loss = 0.507\n",
      "Epoch 107 Batch   29/33   train_loss = 0.468\n",
      "Epoch 108 Batch   16/33   train_loss = 0.516\n",
      "Epoch 109 Batch    3/33   train_loss = 0.472\n",
      "Epoch 109 Batch   23/33   train_loss = 0.466\n",
      "Epoch 110 Batch   10/33   train_loss = 0.436\n",
      "Epoch 110 Batch   30/33   train_loss = 0.483\n",
      "after 110 epoch_i, save the model.\n",
      "Epoch 111 Batch   17/33   train_loss = 0.479\n",
      "Epoch 112 Batch    4/33   train_loss = 0.445\n",
      "Epoch 112 Batch   24/33   train_loss = 0.479\n",
      "Epoch 113 Batch   11/33   train_loss = 0.453\n",
      "Epoch 113 Batch   31/33   train_loss = 0.465\n",
      "Epoch 114 Batch   18/33   train_loss = 0.437\n",
      "Epoch 115 Batch    5/33   train_loss = 0.434\n",
      "Epoch 115 Batch   25/33   train_loss = 0.441\n",
      "Epoch 116 Batch   12/33   train_loss = 0.450\n",
      "Epoch 116 Batch   32/33   train_loss = 0.407\n",
      "Epoch 117 Batch   19/33   train_loss = 0.413\n",
      "Epoch 118 Batch    6/33   train_loss = 0.399\n",
      "Epoch 118 Batch   26/33   train_loss = 0.430\n",
      "Epoch 119 Batch   13/33   train_loss = 0.434\n",
      "Epoch 120 Batch    0/33   train_loss = 0.429\n",
      "Epoch 120 Batch   20/33   train_loss = 0.418\n",
      "after 120 epoch_i, save the model.\n",
      "Epoch 121 Batch    7/33   train_loss = 0.417\n",
      "Epoch 121 Batch   27/33   train_loss = 0.411\n",
      "Epoch 122 Batch   14/33   train_loss = 0.406\n",
      "Epoch 123 Batch    1/33   train_loss = 0.395\n",
      "Epoch 123 Batch   21/33   train_loss = 0.422\n",
      "Epoch 124 Batch    8/33   train_loss = 0.392\n",
      "Epoch 124 Batch   28/33   train_loss = 0.360\n",
      "Epoch 125 Batch   15/33   train_loss = 0.397\n",
      "Epoch 126 Batch    2/33   train_loss = 0.414\n",
      "Epoch 126 Batch   22/33   train_loss = 0.366\n",
      "Epoch 127 Batch    9/33   train_loss = 0.420\n",
      "Epoch 127 Batch   29/33   train_loss = 0.384\n",
      "Epoch 128 Batch   16/33   train_loss = 0.425\n",
      "Epoch 129 Batch    3/33   train_loss = 0.396\n",
      "Epoch 129 Batch   23/33   train_loss = 0.376\n",
      "Epoch 130 Batch   10/33   train_loss = 0.378\n",
      "Epoch 130 Batch   30/33   train_loss = 0.386\n",
      "after 130 epoch_i, save the model.\n",
      "Epoch 131 Batch   17/33   train_loss = 0.403\n",
      "Epoch 132 Batch    4/33   train_loss = 0.394\n",
      "Epoch 132 Batch   24/33   train_loss = 0.425\n",
      "Epoch 133 Batch   11/33   train_loss = 0.408\n",
      "Epoch 133 Batch   31/33   train_loss = 0.399\n",
      "Epoch 134 Batch   18/33   train_loss = 0.379\n",
      "Epoch 135 Batch    5/33   train_loss = 0.373\n",
      "Epoch 135 Batch   25/33   train_loss = 0.354\n",
      "Epoch 136 Batch   12/33   train_loss = 0.383\n",
      "Epoch 136 Batch   32/33   train_loss = 0.359\n",
      "Epoch 137 Batch   19/33   train_loss = 0.368\n",
      "Epoch 138 Batch    6/33   train_loss = 0.359\n",
      "Epoch 138 Batch   26/33   train_loss = 0.360\n"
     ]
    }
   ],
   "source": [
    "\"\"\"\n",
    "DON'T MODIFY ANYTHING IN THIS CELL\n",
    "\"\"\"\n",
    "batches = get_batches(int_text, batch_size, seq_length)\n",
    "\n",
    "with tf.Session(graph=train_graph) as sess:\n",
    "    sess.run(tf.global_variables_initializer())\n",
    "    \n",
    "    saver = tf.train.Saver()\n",
    "\n",
    "    for epoch_i in range(num_epochs):\n",
    "        state = sess.run(initial_state, {input_text: batches[0][0]})\n",
    "\n",
    "        for batch_i, (x, y) in enumerate(batches):\n",
    "            feed = {\n",
    "                input_text: x,\n",
    "                targets: y,\n",
    "                initial_state: state,\n",
    "                lr: learning_rate}\n",
    "            train_loss, state, _ = sess.run([cost, final_state, train_op], feed)\n",
    "\n",
    "            # Show every <show_every_n_batches> batches\n",
    "            if (epoch_i * len(batches) + batch_i) % show_every_n_batches == 0:\n",
    "                print('Epoch {:>3} Batch {:>4}/{}   train_loss = {:.3f}'.format(\n",
    "                    epoch_i,\n",
    "                    batch_i,\n",
    "                    len(batches),\n",
    "                    train_loss))\n",
    "        if (epoch_i)%10==0:\n",
    "            saver.save(sess, save_dir)\n",
    "            print('after %d epoch_i, save the model.'%epoch_i)\n",
    "\n",
    "    # Save Model\n",
    "    #saver = tf.train.Saver()\n",
    "    saver.save(sess, save_dir)\n",
    "    print('Model Trained and Saved')\n"
   ]
  },
  {
   "cell_type": "markdown",
   "metadata": {},
   "source": [
    "## Save Parameters\n",
    "Save `seq_length` and `save_dir` for generating a new TV script."
   ]
  },
  {
   "cell_type": "code",
   "execution_count": 6,
   "metadata": {},
   "outputs": [],
   "source": [
    "\"\"\"\n",
    "DON'T MODIFY ANYTHING IN THIS CELL\n",
    "\"\"\"\n",
    "# Save parameters for checkpoint\n",
    "helper.save_params((seq_length, save_dir))"
   ]
  },
  {
   "cell_type": "markdown",
   "metadata": {},
   "source": [
    "# Checkpoint"
   ]
  },
  {
   "cell_type": "code",
   "execution_count": 7,
   "metadata": {
    "collapsed": true
   },
   "outputs": [],
   "source": [
    "\"\"\"\n",
    "DON'T MODIFY ANYTHING IN THIS CELL\n",
    "\"\"\"\n",
    "import tensorflow as tf\n",
    "import numpy as np\n",
    "import helper\n",
    "import problem_unittests as tests\n",
    "\n",
    "_, vocab_to_int, int_to_vocab, token_dict = helper.load_preprocess()\n",
    "seq_length, load_dir = helper.load_params()"
   ]
  },
  {
   "cell_type": "markdown",
   "metadata": {},
   "source": [
    "## Implement Generate Functions\n",
    "### Get Tensors\n",
    "Get tensors from `loaded_graph` using the function [`get_tensor_by_name()`](https://www.tensorflow.org/api_docs/python/tf/Graph#get_tensor_by_name).  Get the tensors using the following names:\n",
    "- \"input:0\"\n",
    "- \"initial_state:0\"\n",
    "- \"final_state:0\"\n",
    "- \"probs:0\"\n",
    "\n",
    "Return the tensors in the following tuple `(InputTensor, InitialStateTensor, FinalStateTensor, ProbsTensor)` "
   ]
  },
  {
   "cell_type": "code",
   "execution_count": 8,
   "metadata": {},
   "outputs": [
    {
     "name": "stdout",
     "output_type": "stream",
     "text": [
      "Tests Passed\n"
     ]
    }
   ],
   "source": [
    "def get_tensors(loaded_graph):\n",
    "    \"\"\"\n",
    "    Get input, initial state, final state, and probabilities tensor from <loaded_graph>\n",
    "    :param loaded_graph: TensorFlow graph loaded from file\n",
    "    :return: Tuple (InputTensor, InitialStateTensor, FinalStateTensor, ProbsTensor)\n",
    "    \"\"\"\n",
    "    # TODO: Implement Function\n",
    "    \n",
    "    inputs = loaded_graph.get_tensor_by_name(\"input:0\")    \n",
    "    initial_state = loaded_graph.get_tensor_by_name(\"initial_state:0\")\n",
    "    final_state = loaded_graph.get_tensor_by_name(\"final_state:0\")\n",
    "    probs = loaded_graph.get_tensor_by_name(\"probs:0\")\n",
    "    \n",
    "    return inputs, initial_state, final_state, probs\n",
    "    \n",
    "\"\"\"\n",
    "DON'T MODIFY ANYTHING IN THIS CELL THAT IS BELOW THIS LINE\n",
    "\"\"\"\n",
    "tests.test_get_tensors(get_tensors)"
   ]
  },
  {
   "cell_type": "markdown",
   "metadata": {},
   "source": [
    "### Choose Word\n",
    "Implement the `pick_word()` function to select the next word using `probabilities`."
   ]
  },
  {
   "cell_type": "code",
   "execution_count": 9,
   "metadata": {},
   "outputs": [
    {
     "name": "stdout",
     "output_type": "stream",
     "text": [
      "Tests Passed\n"
     ]
    }
   ],
   "source": [
    "def pick_word(probabilities, int_to_vocab):\n",
    "    \"\"\"\n",
    "    Pick the next word in the generated text\n",
    "    :param probabilities: Probabilites of the next word\n",
    "    :param int_to_vocab: Dictionary of word ids as the keys and words as the values\n",
    "    :return: String of the predicted word\n",
    "    \"\"\"\n",
    "    # TODO: Implement Function\n",
    "    \n",
    "    num_word = np.random.choice(len(int_to_vocab), p=probabilities)\n",
    "   \n",
    "    return int_to_vocab[num_word]\n",
    "\n",
    "\n",
    "\"\"\"\n",
    "DON'T MODIFY ANYTHING IN THIS CELL THAT IS BELOW THIS LINE\n",
    "\"\"\"\n",
    "tests.test_pick_word(pick_word)"
   ]
  },
  {
   "cell_type": "markdown",
   "metadata": {},
   "source": [
    "## Generate TV Script\n",
    "This will generate the TV script for you.  Set `gen_length` to the length of TV script you want to generate."
   ]
  },
  {
   "cell_type": "code",
   "execution_count": 10,
   "metadata": {},
   "outputs": [
    {
     "name": "stdout",
     "output_type": "stream",
     "text": [
      "INFO:tensorflow:Restoring parameters from ./save\n",
      "moe_szyslak:... now, let dinner ready for a lot of courage to go to my own date.\n",
      "moe_szyslak: uh, homer, you want our life, i've gotta quit into your my wife, huh?(to artie) oh, homer's out of baseball, we'll think hard. don't feel something. can i do somethin' we can.\n",
      "carl_carlson: say, use your big man.\n",
      "moe_szyslak: oh, you didn't smell my wife's. ya hundred with them?\n",
      "lenny_leonard: well, i can't remember seeing we like out of our friend, too much underpants.\n",
      "waylon_smithers: excuse me, i gotta go more here, can i know!\n",
      "homer_simpson: gimme, i'll tell you guys. my dr. an brother, but it's such a decent joe.\n",
      "moe_szyslak: oh, it! oh great! / yes!\n",
      "homer_simpson: woo-hoo! i wish i love your money. runaway surgery is this?\n",
      "carl_carlson: yeah, hope it's jolly / where comes\n",
      "homer_simpson: so, but i'm not gonna help with my kid all now,\n"
     ]
    }
   ],
   "source": [
    "gen_length = 200\n",
    "# homer_simpson, moe_szyslak, or Barney_Gumble\n",
    "prime_word = 'moe_szyslak'\n",
    "\n",
    "\"\"\"\n",
    "DON'T MODIFY ANYTHING IN THIS CELL THAT IS BELOW THIS LINE\n",
    "\"\"\"\n",
    "loaded_graph = tf.Graph()\n",
    "with tf.Session(graph=loaded_graph) as sess:\n",
    "    # Load saved model\n",
    "    loader = tf.train.import_meta_graph(load_dir + '.meta')\n",
    "    loader.restore(sess, load_dir)\n",
    "\n",
    "    # Get Tensors from loaded model\n",
    "    input_text, initial_state, final_state, probs = get_tensors(loaded_graph)\n",
    "\n",
    "    # Sentences generation setup\n",
    "    gen_sentences = [prime_word + ':']\n",
    "    prev_state = sess.run(initial_state, {input_text: np.array([[1]])})\n",
    "\n",
    "    # Generate sentences\n",
    "    for n in range(gen_length):\n",
    "        # Dynamic Input\n",
    "        dyn_input = [[vocab_to_int[word] for word in gen_sentences[-seq_length:]]]\n",
    "        dyn_seq_length = len(dyn_input[0])\n",
    "\n",
    "        # Get Prediction\n",
    "        probabilities, prev_state = sess.run(\n",
    "            [probs, final_state],\n",
    "            {input_text: dyn_input, initial_state: prev_state})\n",
    "        \n",
    "        pred_word = pick_word(probabilities[dyn_seq_length-1], int_to_vocab)#这里加了[0]\n",
    "\n",
    "        gen_sentences.append(pred_word)\n",
    "    \n",
    "    # Remove tokens\n",
    "    tv_script = ' '.join(gen_sentences)\n",
    "    for key, token in token_dict.items():\n",
    "        ending = ' ' if key in ['\\n', '(', '\"'] else ''\n",
    "        tv_script = tv_script.replace(' ' + token.lower(), key)\n",
    "    tv_script = tv_script.replace('\\n ', '\\n')\n",
    "    tv_script = tv_script.replace('( ', '(')\n",
    "        \n",
    "    print(tv_script)"
   ]
  },
  {
   "cell_type": "markdown",
   "metadata": {},
   "source": [
    "# The TV Script is Nonsensical\n",
    "It's ok if the TV script doesn't make any sense.  We trained on less than a megabyte of text.  In order to get good results, you'll have to use a smaller vocabulary or get more data.  Luckily there's more data!  As we mentioned in the beggining of this project, this is a subset of [another dataset](https://www.kaggle.com/wcukierski/the-simpsons-by-the-data).  We didn't have you train on all the data, because that would take too long.  However, you are free to train your neural network on all the data.  After you complete the project, of course.\n",
    "# Submitting This Project\n",
    "When submitting this project, make sure to run all the cells before saving the notebook. Save the notebook file as \"dlnd_tv_script_generation.ipynb\" and save it as a HTML file under \"File\" -> \"Download as\". Include the \"helper.py\" and \"problem_unittests.py\" files in your submission."
   ]
  },
  {
   "cell_type": "code",
   "execution_count": null,
   "metadata": {
    "collapsed": true
   },
   "outputs": [],
   "source": []
  }
 ],
 "metadata": {
  "kernelspec": {
   "display_name": "Python 3",
   "language": "python",
   "name": "python3"
  },
  "language_info": {
   "codemirror_mode": {
    "name": "ipython",
    "version": 3
   },
   "file_extension": ".py",
   "mimetype": "text/x-python",
   "name": "python",
   "nbconvert_exporter": "python",
   "pygments_lexer": "ipython3",
   "version": "3.5.4"
  },
  "widgets": {
   "state": {},
   "version": "1.1.2"
  }
 },
 "nbformat": 4,
 "nbformat_minor": 1
}
